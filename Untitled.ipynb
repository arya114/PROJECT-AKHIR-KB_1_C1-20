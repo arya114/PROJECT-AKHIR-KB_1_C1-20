{
 "cells": [
  {
   "cell_type": "markdown",
   "id": "25962f90",
   "metadata": {},
   "source": [
    "# PROJEK AKHIR KELOMPOK 1 C1-20\n",
    "# TEMA : DETEKSI GENDER\n",
    "#### Arya Nanda / 2009106114\n",
    "#### Lidya Simanungkalit / 2009106125\n",
    "#### Rena Indah Choirunnisa / 2009106126\n"
   ]
  },
  {
   "cell_type": "markdown",
   "id": "fa0eb884",
   "metadata": {},
   "source": [
    "## IMPORT LIBRARY"
   ]
  },
  {
   "cell_type": "code",
   "execution_count": 19,
   "id": "395e2fd5",
   "metadata": {},
   "outputs": [],
   "source": [
    "import pandas as pd\n",
    "import numpy as np\n",
    "import tensorflow\n",
    "from tensorflow import keras\n",
    "from keras.preprocessing.image import ImageDataGenerator\n",
    "from keras.utils import load_img, img_to_array"
   ]
  },
  {
   "cell_type": "markdown",
   "id": "11961dc0",
   "metadata": {},
   "source": [
    "## DATA PREPROCESSING"
   ]
  },
  {
   "cell_type": "markdown",
   "id": "2e87b2b6",
   "metadata": {},
   "source": [
    "### Read Dataset"
   ]
  },
  {
   "cell_type": "code",
   "execution_count": 20,
   "id": "d5e0915c",
   "metadata": {},
   "outputs": [],
   "source": [
    "def convert_img(dataframe, split):\n",
    "\n",
    "    paths = \"Dataset\"\n",
    "    data = []\n",
    "    \n",
    "    for i in range(len(dataframe)):\n",
    "        ci = dataframe['class'][i]\n",
    "        \n",
    "        image_path = os.path.sep.join((paths, split, ci, dataframe['filename'][i]))\n",
    "        image = load_img(image_path, target_size=(300,300))\n",
    "        image = img_to_array(image)\n",
    "        \n",
    "        data.append(image)\n",
    "        \n",
    "    return data"
   ]
  },
  {
   "cell_type": "code",
   "execution_count": 21,
   "id": "a309f13f",
   "metadata": {},
   "outputs": [],
   "source": [
    "train = \"Dataset/Train\"\n",
    "test = \"Dataset/Test\"\n",
    "valid = \"Dataset/Validation\""
   ]
  },
  {
   "cell_type": "markdown",
   "id": "c190fade",
   "metadata": {},
   "source": [
    "### Pipeline Manual"
   ]
  },
  {
   "cell_type": "code",
   "execution_count": 24,
   "id": "659e9349",
   "metadata": {},
   "outputs": [],
   "source": [
    "train_gen = ImageDataGenerator(rescale=1./255.0,zoom_range=0.2,shear_range=0.2)\n",
    "test_gen = ImageDataGenerator(rescale=1./255.0)\n",
    "valid_gen = ImageDataGenerator(rescale=1./255.0)"
   ]
  },
  {
   "cell_type": "code",
   "execution_count": 23,
   "id": "c65c58c4",
   "metadata": {},
   "outputs": [
    {
     "name": "stdout",
     "output_type": "stream",
     "text": [
      "Found 160000 images belonging to 2 classes.\n",
      "Found 20001 images belonging to 2 classes.\n",
      "Found 22598 images belonging to 2 classes.\n"
     ]
    }
   ],
   "source": [
    "train_ds = train_gen.flow_from_directory(train,target_size=(224,224),batch_size=32)\n",
    "test_ds = test_gen.flow_from_directory(test,target_size=(224,224),batch_size=32)\n",
    "valid_ds = valid_gen.flow_from_directory(valid,target_size=(224,224),batch_size=32)\n",
    "#////"
   ]
  },
  {
   "cell_type": "code",
   "execution_count": null,
   "id": "954594fc",
   "metadata": {},
   "outputs": [],
   "source": []
  }
 ],
 "metadata": {
  "kernelspec": {
   "display_name": "Python 3.9.13 64-bit (microsoft store)",
   "language": "python",
   "name": "python3"
  },
  "language_info": {
   "codemirror_mode": {
    "name": "ipython",
    "version": 3
   },
   "file_extension": ".py",
   "mimetype": "text/x-python",
   "name": "python",
   "nbconvert_exporter": "python",
   "pygments_lexer": "ipython3",
   "version": "3.9.13"
  },
  "vscode": {
   "interpreter": {
    "hash": "90fee8763d76b2516181321d6a2084a8775622914896b9db6868725b6ee87a03"
   }
  }
 },
 "nbformat": 4,
 "nbformat_minor": 5
}
